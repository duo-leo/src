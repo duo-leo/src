{
 "cells": [
  {
   "cell_type": "markdown",
   "metadata": {},
   "source": [
    "# 1. Config"
   ]
  },
  {
   "cell_type": "markdown",
   "metadata": {},
   "source": [
    "## 1.1 Training Configs"
   ]
  },
  {
   "cell_type": "code",
   "execution_count": null,
   "metadata": {
    "colab": {
     "base_uri": "https://localhost:8080/"
    },
    "id": "j3578iVXFKnb",
    "outputId": "a1438176-39a8-4ba7-bd86-c43ea778823f"
   },
   "outputs": [],
   "source": [
    "BASE_PATH = \"/content/drive/MyDrive/Couplet-Data/final/20250711-MiscData/\"\n",
    "DATA_FORMAT = \"zh-vi\"\n",
    "CHECKPOINT_DIR = \"checkpoints\"\n",
    "VENV_PATH = \"venv\"\n",
    "MODEL_PATH = f\"{CHECKPOINT_DIR}/model.pt\"\n",
    "BPE_CODES_PATH = f\"{CHECKPOINT_DIR}/bpecodes\""
   ]
  },
  {
   "cell_type": "markdown",
   "metadata": {},
   "source": [
    "## 1.2 Evaluation Configs"
   ]
  },
  {
   "cell_type": "markdown",
   "metadata": {
    "id": "O1BaY_dQ-5EH"
   },
   "source": [
    "# 2. Setup\n",
    "Install dependencies, create and activate virtual environment, and verify installations."
   ]
  },
  {
   "cell_type": "code",
   "execution_count": null,
   "metadata": {
    "colab": {
     "base_uri": "https://localhost:8080/"
    },
    "id": "lTaCH7T1sSgJ",
    "outputId": "98c45c8f-dbde-4c79-aaf2-a8e2497fcb52"
   },
   "outputs": [],
   "source": [
    "# =====================\n",
    "# 2. Setup (Environment & Dependencies)\n",
    "# =====================\n",
    "# Install system dependencies (if needed)\n",
    "!sudo apt update\n",
    "!sudo apt install python3.10 python3.10-venv python3.10-dev\n",
    "\n",
    "# Create virtual environment\n",
    "!python3.10 -m venv venv\n",
    "\n",
    "# Activate virtual environment\n",
    "!source venv/bin/activate\n",
    "\n",
    "# Upgrade pip\n",
    "!venv/bin/python -m pip install --upgrade pip==23\n",
    "\n",
    "# Check Python and pip version\n",
    "!venv/bin/python --version\n",
    "!venv/bin/python -m pip --version\n",
    "\n",
    "# Install required Python packages\n",
    "!venv/bin/python -m pip install numpy==1.23.3 --force-reinstall\n",
    "!venv/bin/python -m pip install fairseq\n",
    "!venv/bin/python -m pip install \"torch==1.11.0+cu113\" --index https://download.pytorch.org/whl/\n",
    "!venv/bin/python -m pip install cython sacremoses sentencepiece\n",
    "!venv/bin/python -m pip install tensorboardX\n",
    "!venv/bin/python -m pip install fastBPE"
   ]
  },
  {
   "cell_type": "code",
   "execution_count": null,
   "metadata": {
    "colab": {
     "base_uri": "https://localhost:8080/"
    },
    "id": "DRXDcEeUvB_5",
    "outputId": "8f42c2a2-bb52-46e1-fa73-7db2184ca172"
   },
   "outputs": [],
   "source": [
    "# Download pretrained model and extract\n",
    "!mkdir -p checkpoints\n",
    "!wget https://dl.fbaipublicfiles.com/fairseq/models/wmt19.en-de.joined-dict.single_model.tar.gz\n",
    "!tar -xzvf wmt19.en-de.joined-dict.single_model.tar.gz -C checkpoints"
   ]
  },
  {
   "cell_type": "code",
   "execution_count": null,
   "metadata": {
    "id": "uJ2XGaIxwbXq"
   },
   "outputs": [],
   "source": [
    "# Move model files to checkpoints\n",
    "!mv /content/checkpoints/wmt19.en-de.joined-dict.single_model/dict.de.txt checkpoints/\n",
    "!mv /content/checkpoints/wmt19.en-de.joined-dict.single_model/dict.en.txt checkpoints/\n",
    "!mv /content/checkpoints/wmt19.en-de.joined-dict.single_model/model.pt checkpoints/\n",
    "!mv /content/checkpoints/wmt19.en-de.joined-dict.single_model/bpecodes checkpoints/"
   ]
  },
  {
   "cell_type": "code",
   "execution_count": null,
   "metadata": {
    "colab": {
     "base_uri": "https://localhost:8080/"
    },
    "id": "nSfWsbDKvQXb",
    "outputId": "62af6831-ddf7-4e10-e53b-f5094eccc886"
   },
   "outputs": [],
   "source": [
    "# Example: Interactive translation\n",
    "!echo \"Hello, how are you?\" | \\\n",
    "    venv/bin/fairseq-interactive checkpoints \\\n",
    "    --path checkpoints/model.pt \\\n",
    "    --source-lang en --target-lang de \\\n",
    "    --tokenizer moses --bpe fastbpe --bpe-codes checkpoints/bpecodes \\\n",
    "    --beam 5 --remove-bpe"
   ]
  },
  {
   "cell_type": "markdown",
   "metadata": {
    "id": "59SlIoXL_2ht"
   },
   "source": [
    "# 3. Data Preprocessing"
   ]
  },
  {
   "cell_type": "markdown",
   "metadata": {
    "id": "AmuUSX7YW8z7"
   },
   "source": [
    "## FastBPE setup and usage"
   ]
  },
  {
   "cell_type": "code",
   "execution_count": null,
   "metadata": {
    "colab": {
     "base_uri": "https://localhost:8080/"
    },
    "id": "r2adAQ6Wtgt9",
    "outputId": "5694f0d0-8af1-4c1e-f83b-70c54d0b3e69"
   },
   "outputs": [],
   "source": [
    "# Clone and build FastBPE\n",
    "!git clone https://github.com/glample/fastBPE.git\n",
    "!cd fastBPE && /content/venv/bin/python setup.py install\n",
    "!cd fastBPE && g++ -std=c++11 -pthread -O3 fastBPE/main.cc -o fastbpe\n",
    "!mv fastBPE/fastbpe /content/venv/bin/"
   ]
  },
  {
   "cell_type": "code",
   "execution_count": null,
   "metadata": {
    "id": "LUBdYw9otjKO"
   },
   "outputs": [],
   "source": [
    "# Change directory to fastBPE\n",
    "!cd fastBPE"
   ]
  },
  {
   "cell_type": "code",
   "execution_count": null,
   "metadata": {
    "colab": {
     "base_uri": "https://localhost:8080/"
    },
    "id": "h4Gg0gcd4dAQ",
    "outputId": "7116c654-1872-49fe-b450-b11fcc77ba3a"
   },
   "outputs": [],
   "source": [
    "# Build and install FastBPE\n",
    "!cd fastBPE && /content/venv/bin/python setup.py install\n",
    "!cd fastBPE && g++ -std=c++11 -pthread -O3 fastBPE/main.cc -o fastbpe\n",
    "!mv fastBPE/fastbpe /content/venv/bin/"
   ]
  },
  {
   "cell_type": "code",
   "execution_count": null,
   "metadata": {
    "id": "uimavMSirOUG"
   },
   "outputs": [],
   "source": [
    "# Set base path for data\n",
    "BASE_PATH = \"/content/drive/MyDrive/Couplet-Data/final/20250711-MiscData/\""
   ]
  },
  {
   "cell_type": "code",
   "execution_count": null,
   "metadata": {
    "colab": {
     "base_uri": "https://localhost:8080/"
    },
    "id": "a4W0prCS3hCA",
    "outputId": "3caf0209-ecae-49b3-880d-840f7c3fb0e9"
   },
   "outputs": [],
   "source": [
    "# Apply BPE to training, validation, and test data\n",
    "for split in [\"train\", \"valid\", \"test\"]:\n",
    "    for lang in [\"zh\", \"vi\"]:\n",
    "        input_file = f\"{BASE_PATH}{split}.{lang}\"\n",
    "        output_file = f\"{BASE_PATH}{split}.{lang}.bpe\"\n",
    "        !venv/bin/fastbpe applybpe \"{output_file}\" \"{input_file}\" \"/content/checkpoints/bpecodes\""
   ]
  },
  {
   "cell_type": "code",
   "execution_count": null,
   "metadata": {
    "colab": {
     "base_uri": "https://localhost:8080/"
    },
    "id": "z61n7ph73M1-",
    "outputId": "c373b56d-f023-4178-ae9a-f6958dea432f"
   },
   "outputs": [],
   "source": [
    "# Count lines in original and BPE-processed files\n",
    "def count_lines(file_path):\n",
    "    with open(file_path, \"r\", encoding=\"utf-8\") as f:\n",
    "        return len(f.readlines())\n",
    "\n",
    "original_lines = count_lines(f\"{BASE_PATH}train.zh\")\n",
    "bpe_lines = count_lines(f\"{BASE_PATH}train.zh.bpe\")\n",
    "print(f\"Original lines: {original_lines}, BPE lines: {bpe_lines}\")"
   ]
  },
  {
   "cell_type": "code",
   "execution_count": null,
   "metadata": {
    "colab": {
     "base_uri": "https://localhost:8080/"
    },
    "id": "gxScplDy0NGz",
    "outputId": "5d347634-dc7d-480d-bdef-f176e87c7804"
   },
   "outputs": [],
   "source": [
    "# Check line counts for BPE files\n",
    "for split in [\"train\", \"valid\", \"test\"]:\n",
    "    for lang in [\"zh\", \"vi\"]:\n",
    "        bpe_file = f\"{BASE_PATH}{split}.{lang}.bpe\"\n",
    "        !wc -l \"{bpe_file}\""
   ]
  },
  {
   "cell_type": "code",
   "execution_count": null,
   "metadata": {
    "id": "Wm24CbrG5qoh"
   },
   "outputs": [],
   "source": [
    "# Rename BPE files for Fairseq\n",
    "for split in [\"train\", \"valid\", \"test\"]:\n",
    "    for lang in [\"zh\", \"vi\"]:\n",
    "        src = f\"{BASE_PATH}{split}.{lang}.bpe\"\n",
    "        dst = f\"{BASE_PATH}{split}.zh-vi.{lang}\"\n",
    "        !mv \"{src}\" \"{dst}\""
   ]
  },
  {
   "cell_type": "code",
   "execution_count": null,
   "metadata": {
    "colab": {
     "base_uri": "https://localhost:8080/"
    },
    "id": "nqyRma4045yV",
    "outputId": "119a99cc-9dde-494d-98b1-5676bcc906ea"
   },
   "outputs": [],
   "source": [
    "# Preprocess data for Fairseq\n",
    "!/content/venv/bin/fairseq-preprocess \\\n",
    "    --source-lang zh --target-lang vi \\\n",
    "    --trainpref \"{BASE_PATH}train.zh-vi\" \\\n",
    "    --validpref \"{BASE_PATH}valid.zh-vi\" \\\n",
    "    --testpref \"{BASE_PATH}test.zh-vi\" \\\n",
    "    --destdir data-bin/ \\\n",
    "    --joined-dictionary \\\n",
    "    --workers 4"
   ]
  },
  {
   "cell_type": "code",
   "execution_count": null,
   "metadata": {
    "colab": {
     "base_uri": "https://localhost:8080/"
    },
    "id": "Py0L80ueM6Fq",
    "outputId": "978bc467-891b-40c3-88c5-61fc7de10381"
   },
   "outputs": [],
   "source": [
    "!wc -l \"{base_path}train.zh-vi.zh\" \"{base_path}train.zh-vi.vi\"\n",
    "!wc -l \"{base_path}valid.zh-vi.zh\" \"{base_path}valid.zh-vi.vi\"\n",
    "!wc -l \"{base_path}test.zh-vi.zh\" \"{base_path}test.zh-vi.vi\"\n"
   ]
  },
  {
   "cell_type": "code",
   "execution_count": null,
   "metadata": {
    "colab": {
     "base_uri": "https://localhost:8080/"
    },
    "id": "HWoim9Fk75z-",
    "outputId": "c5ff68d6-17be-48d7-ad78-155566c4bf6b"
   },
   "outputs": [],
   "source": [
    "!cat \"{base_path}test.zh-vi.zh\"\n"
   ]
  },
  {
   "cell_type": "markdown",
   "metadata": {
    "id": "K87mNNBrAQfN"
   },
   "source": [
    "# 4. Training"
   ]
  },
  {
   "cell_type": "code",
   "execution_count": null,
   "metadata": {
    "colab": {
     "base_uri": "https://localhost:8080/"
    },
    "id": "QndILOz95lZ9",
    "outputId": "86d5d1fe-1c4f-4b3e-8553-e42490bfd3b1"
   },
   "outputs": [],
   "source": [
    "# Train Fairseq transformer model\n",
    "!/content/venv/bin/fairseq-train data-bin/ \\\n",
    "    --arch transformer_wmt_en_de_big \\\n",
    "    --share-all-embeddings \\\n",
    "    --optimizer adam --adam-betas '(0.9, 0.98)' --clip-norm 0.0 \\\n",
    "    --lr 5e-4 --lr-scheduler inverse_sqrt --warmup-updates 4000 \\\n",
    "    --dropout 0.3 --weight-decay 0.0001 \\\n",
    "    --criterion label_smoothed_cross_entropy --label-smoothing 0.1 \\\n",
    "    --max-tokens 4096 \\\n",
    "    --max-source-positions 4096 --max-target-positions 4096 \\\n",
    "    --skip-invalid-size-inputs-valid-test \\\n",
    "    --update-freq 16 \\\n",
    "    --save-interval 2 \\\n",
    "    --keep-best-checkpoints 1 \\\n",
    "    --keep-last-epochs 2 \\\n",
    "    --save-dir /content/drive/MyDrive/Couplet-Data/FairSeq/checkpoints/ \\\n",
    "    --restore-file /content/drive/MyDrive/Couplet-Data/FairSeq/checkpoints/checkpoint_last.pt \\\n",
    "    --fp16 \\\n",
    "    --max-epoch 30 \\\n",
    "    --eval-bleu \\\n",
    "    --eval-bleu-args '{\"beam\": 5, \"max_len_a\": 1.2, \"max_len_b\": 10}' \\\n",
    "    --eval-bleu-detok moses \\\n",
    "    --eval-bleu-remove-bpe \\\n",
    "    --eval-bleu-print-samples \\\n",
    "    --best-checkpoint-metric bleu --maximize-best-checkpoint-metric \\\n",
    "    --patience 5"
   ]
  },
  {
   "cell_type": "markdown",
   "metadata": {
    "id": "zhwc7MwApwW8"
   },
   "source": [
    "# 5. Inference"
   ]
  },
  {
   "cell_type": "code",
   "execution_count": null,
   "metadata": {
    "colab": {
     "base_uri": "https://localhost:8080/"
    },
    "id": "9tayanrWVjXX",
    "outputId": "dca67f90-74b6-4521-d10b-325c35b3cda7"
   },
   "outputs": [],
   "source": [
    "# Example: Inference on a Chinese sentence\n",
    "!echo \"不厭湖上月 [SEP] 宛在水中央\" | \\\n",
    "    venv/bin/fairseq-interactive data-bin \\\n",
    "    --path /content/drive/MyDrive/Couplet-Data/FairSeq/checkpoints/checkpoint.best_bleu_22.8800.pt \\\n",
    "    --source-lang zh --target-lang vi \\\n",
    "    --tokenizer moses --bpe fastbpe --bpe-codes checkpoints/bpecodes \\\n",
    "    --beam 5 --remove-bpe"
   ]
  },
  {
   "cell_type": "markdown",
   "metadata": {},
   "source": [
    "# 6. Evaluation"
   ]
  },
  {
   "cell_type": "code",
   "execution_count": null,
   "metadata": {},
   "outputs": [],
   "source": []
  },
  {
   "cell_type": "code",
   "execution_count": null,
   "metadata": {
    "colab": {
     "base_uri": "https://localhost:8080/"
    },
    "id": "xuhteMWuSylB",
    "outputId": "d8011b7c-2c42-4f93-86bd-f7b681834ef4"
   },
   "outputs": [],
   "source": [
    "!/content/venv/bin/fairseq-generate data-bin/ \\\n",
    "    --path checkpoints/checkpoint_best.pt \\\n",
    "    --batch-size 32 --beam 3 --remove-bpe"
   ]
  },
  {
   "cell_type": "code",
   "execution_count": null,
   "metadata": {
    "colab": {
     "base_uri": "https://localhost:8080/"
    },
    "id": "lg0c7uXKWUwj",
    "outputId": "910ebb8c-2d83-4678-9e3e-a518628e952b"
   },
   "outputs": [],
   "source": [
    "# Batch inference for multiple sentences\n",
    "import subprocess\n",
    "\n",
    "sentences = [\n",
    "    \"潑島墨痕湖水滿 [SEP] 擎天筆勢石峰高\",\n",
    "    \"不厭湖上月 [SEP] 宛在水中央\",\n",
    "    \"平湖長日月 [SEP] 故甸小乾坤\",\n",
    "    \"高低韻送橫江鳥 [SEP] 紅紫頻開隔岸花\",\n",
    "    \"孤山木蔭三千界 [SEP] 勺水波澄九十春\",\n",
    "    \"夜月或過仙是鶴 [SEP] 濠梁信樂子非魚\",\n",
    "    \"惟聖不知惟神不測 [SEP] 在天成象在地成形\",\n",
    "    \"道有主張斗北文明之象 [SEP] 人同瞻仰交南禮樂之都\",\n",
    "    \"竇桂王槐國家楨幹 [SEP] 唐科宋榜士子梯階\",\n",
    "    \"火宅蓮開今古夢 [SEP] 金門鐘響草花寒\",\n",
    "]\n",
    "\n",
    "base_command = [\n",
    "    \"venv/bin/fairseq-interactive\", \"data-bin\",\n",
    "    \"--path\", \"/content/drive/MyDrive/Couplet-Data/FairSeq/backup/fairseq_checkpoint_best.pt\",\n",
    "    \"--source-lang\", \"zh\", \"--target-lang\", \"vi\",\n",
    "    \"--tokenizer\", \"moses\", \"--bpe\", \"fastbpe\",\n",
    "    \"--bpe-codes\", \"checkpoints/bpecodes\",\n",
    "    \"--beam\", \"5\", \"--remove-bpe\"\n",
    "    ]\n",
    "\n",
    "for sentence in sentences:\n",
    "    print(f\"\\n>>> Input: {sentence}\")\n",
    "    process = subprocess.Popen(\n",
    "        base_command,\n",
    "        stdin=subprocess.PIPE,\n",
    "        stdout=subprocess.PIPE,\n",
    "        stderr=subprocess.PIPE,\n",
    "        text=True\n",
    "    )\n",
    "    stdout, stderr = process.communicate(input=sentence)\n",
    "    print(stdout)\n",
    "    if stderr:\n",
    "        print(f\"[stderr]: {stderr}\")"
   ]
  }
 ],
 "metadata": {
  "accelerator": "GPU",
  "colab": {
   "collapsed_sections": [
    "O1BaY_dQ-5EH",
    "AmuUSX7YW8z7",
    "6v-8FRoVXFBB"
   ],
   "gpuType": "A100",
   "machine_shape": "hm",
   "provenance": []
  },
  "kernelspec": {
   "display_name": "Python 3",
   "name": "python3"
  },
  "language_info": {
   "name": "python"
  }
 },
 "nbformat": 4,
 "nbformat_minor": 0
}
